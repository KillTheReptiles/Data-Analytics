{
 "cells": [
  {
   "cell_type": "code",
   "execution_count": 4,
   "metadata": {},
   "outputs": [
    {
     "name": "stdout",
     "output_type": "stream",
     "text": [
      "Calculating distances for k = 3\n",
      "Calculating distances for k = 5\n",
      "Calculating distances for k = 7\n",
      "Calculating distances for k = 9\n",
      "Calculating distances for k = 11\n",
      "Classifying test instances using majority vote for k = 3\n"
     ]
    },
    {
     "ename": "IndexError",
     "evalue": "list index out of range",
     "output_type": "error",
     "traceback": [
      "\u001b[1;31m---------------------------------------------------------------------------\u001b[0m",
      "\u001b[1;31mIndexError\u001b[0m                                Traceback (most recent call last)",
      "Cell \u001b[1;32mIn[4], line 45\u001b[0m\n\u001b[0;32m     43\u001b[0m labels \u001b[39m=\u001b[39m {}\n\u001b[0;32m     44\u001b[0m \u001b[39mfor\u001b[39;00m j \u001b[39min\u001b[39;00m \u001b[39mrange\u001b[39m(k):\n\u001b[1;32m---> 45\u001b[0m     label \u001b[39m=\u001b[39m distances[i][j][\u001b[39m1\u001b[39m]\n\u001b[0;32m     46\u001b[0m     labels[label] \u001b[39m=\u001b[39m labels\u001b[39m.\u001b[39mget(label, \u001b[39m0\u001b[39m) \u001b[39m+\u001b[39m \u001b[39m1\u001b[39m\n\u001b[0;32m     47\u001b[0m predicted \u001b[39m=\u001b[39m \u001b[39mmax\u001b[39m(labels, key\u001b[39m=\u001b[39mlabels\u001b[39m.\u001b[39mget)\n",
      "\u001b[1;31mIndexError\u001b[0m: list index out of range"
     ]
    }
   ],
   "source": [
    "import csv\n",
    "import random\n",
    "import math\n",
    "\n",
    "# Cargar los datos desde el archivo CSV\n",
    "def cargarDatos(nombreArchivo):\n",
    "    lineas = csv.reader(open(nombreArchivo, \"r\"))\n",
    "    datos = list(lineas)\n",
    "    for i in range(len(datos)):\n",
    "        datos[i] = [float(x) for x in datos[i]]\n",
    "    return datos\n",
    "\n",
    "# Dividir los datos en conjuntos de entrenamiento y prueba\n",
    "def dividirDatos(datos, proporcionEntrenamiento):\n",
    "    tamEntrenamiento = int(len(datos) * proporcionEntrenamiento)\n",
    "    entrenamiento = []\n",
    "    prueba = list(datos)\n",
    "    while len(entrenamiento) < tamEntrenamiento:\n",
    "        indice = random.randrange(len(prueba))\n",
    "        entrenamiento.append(prueba.pop(indice))\n",
    "    return [entrenamiento, prueba]\n",
    "\n",
    "# Calcular la distancia euclidiana entre dos vectores de características\n",
    "def distanciaEuclidiana(instancia1, instancia2):\n",
    "    dimension = len(instancia1) - 1\n",
    "    distancia = 0\n",
    "    for x in range(dimension):\n",
    "        distancia += pow((instancia1[x] - instancia2[x]), 2)\n",
    "    return math.sqrt(distancia)\n",
    "\n",
    "\n",
    "# Realizar la clasificación KNN\n",
    "def knn(datosEntrenamiento, datosPrueba, k):\n",
    "    predicciones = []\n",
    "    for instanciaPrueba in datosPrueba:\n",
    "        vecinos = []\n",
    "        for instanciaEntrenamiento in datosEntrenamiento:\n",
    "            distancia = distanciaEuclidiana(instanciaPrueba, instanciaEntrenamiento)\n",
    "            vecinos.append((instanciaEntrenamiento, distancia))\n",
    "        vecinos.sort(key=lambda tup: tup[1])\n",
    "        claseVecinos = [vecino[0][-1] for vecino in vecinos[:k]]\n",
    "        prediccion = max(set(claseVecinos), key=claseVecinos.count)\n",
    "        predicciones.append(prediccion)\n",
    "    return predicciones\n",
    "\n",
    "# Evaluar el desempeño de la clasificación KNN para cada valor de K probado\n",
    "def evaluarKNN(datosEntrenamiento, datosPrueba, valoresK):\n",
    "    resultados = []\n",
    "    for k in valoresK:\n",
    "        predicciones = knn(datosEntrenamiento, datosPrueba, k)\n",
    "        aciertos = 0\n",
    "        fallas = 0\n",
    "        for i in range(len(datosPrueba)):\n",
    "            if datosPrueba[i][-1] == predicciones[i]:\n",
    "                aciertos += 1\n",
    "            else:\n",
    "                fallas += 1\n",
    "        resultados.append((k, aciertos, fallas))\n",
    "    return resultados\n"
   ]
  }
 ],
 "metadata": {
  "kernelspec": {
   "display_name": "Python 3",
   "language": "python",
   "name": "python3"
  },
  "language_info": {
   "codemirror_mode": {
    "name": "ipython",
    "version": 3
   },
   "file_extension": ".py",
   "mimetype": "text/x-python",
   "name": "python",
   "nbconvert_exporter": "python",
   "pygments_lexer": "ipython3",
   "version": "3.10.4"
  },
  "orig_nbformat": 4,
  "vscode": {
   "interpreter": {
    "hash": "210c6ffe1b078825ed56507d42ac98041d754e0d1deb03965fd44ed159f10d6b"
   }
  }
 },
 "nbformat": 4,
 "nbformat_minor": 2
}
